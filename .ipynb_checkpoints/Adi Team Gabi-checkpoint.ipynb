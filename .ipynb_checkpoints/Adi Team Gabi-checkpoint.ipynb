{
 "cells": [
  {
   "cell_type": "code",
   "execution_count": 1,
   "id": "2d0277f2",
   "metadata": {},
   "outputs": [],
   "source": [
    "import requests\n",
    "from bs4 import BeautifulSoup"
   ]
  },
  {
   "cell_type": "code",
   "execution_count": 2,
   "id": "7da48e18",
   "metadata": {},
   "outputs": [],
   "source": [
    "brand_id = \"adidas\""
   ]
  },
  {
   "cell_type": "code",
   "execution_count": 3,
   "id": "39d11e8d",
   "metadata": {},
   "outputs": [],
   "source": [
    "url = f\"https://directory.goodonyou.eco/brands/{brand_id}\""
   ]
  },
  {
   "cell_type": "code",
   "execution_count": 4,
   "id": "4341ac9e",
   "metadata": {},
   "outputs": [],
   "source": [
    "response = requests.get(url)"
   ]
  },
  {
   "cell_type": "code",
   "execution_count": 5,
   "id": "f0e781bc",
   "metadata": {},
   "outputs": [],
   "source": [
    "soup = BeautifulSoup(response.content)"
   ]
  },
  {
   "cell_type": "code",
   "execution_count": 6,
   "id": "dc69ba22",
   "metadata": {},
   "outputs": [],
   "source": [
    "general_rating = soup.find(\"p\", attrs = {\"id\":\"brand-rating\"}).get_text()"
   ]
  },
  {
   "cell_type": "code",
   "execution_count": 7,
   "id": "622cbebe",
   "metadata": {},
   "outputs": [
    {
     "data": {
      "text/plain": [
       "'Rated: Not good enough'"
      ]
     },
     "execution_count": 7,
     "metadata": {},
     "output_type": "execute_result"
    }
   ],
   "source": [
    "general_rating"
   ]
  },
  {
   "cell_type": "code",
   "execution_count": 8,
   "id": "7c390438",
   "metadata": {},
   "outputs": [],
   "source": [
    "class_rating = soup.find_all(\"h4\", attrs = {\"class\":\"StyledHeading-sc-1rdh4aw-0 kSdMbM LabelMeter__HeadingLabel-sc-6zrovj-0 deAGsb\"})"
   ]
  },
  {
   "cell_type": "code",
   "execution_count": 9,
   "id": "b5fa2a74",
   "metadata": {},
   "outputs": [
    {
     "name": "stdout",
     "output_type": "stream",
     "text": [
      "['Planet', 'People', 'Animals']\n"
     ]
    }
   ],
   "source": [
    "class_name = []\n",
    "for i in range(len(class_rating)):\n",
    "    class_name.append(class_rating[i].get_text())\n",
    "print(class_name)"
   ]
  },
  {
   "cell_type": "code",
   "execution_count": 10,
   "id": "044b788d",
   "metadata": {},
   "outputs": [],
   "source": [
    "from selenium import webdriver\n",
    "from selenium.webdriver.common.by import By\n",
    "from selenium.webdriver.support.ui import WebDriverWait\n",
    "from selenium.webdriver.support import expected_conditions as EC\n",
    "\n",
    "driver = webdriver.Safari()\n",
    "driver.get(url)"
   ]
  },
  {
   "cell_type": "code",
   "execution_count": 12,
   "id": "871d6607",
   "metadata": {},
   "outputs": [
    {
     "name": "stdout",
     "output_type": "stream",
     "text": [
      "3 out of 5\n"
     ]
    }
   ],
   "source": [
    "#Experimental but it works too!\n",
    "\n",
    "scores = driver.find_element(By.CSS_SELECTOR, 'span.StyledText-sc-1sadyjn-0.iNKHen.LabelMeter__TextScore-sc-6zrovj-2.eDAPFC')\n",
    "print(scores.text)"
   ]
  },
  {
   "cell_type": "code",
   "execution_count": 13,
   "id": "881ff9e1",
   "metadata": {},
   "outputs": [
    {
     "name": "stdout",
     "output_type": "stream",
     "text": [
      "Score 1: 3 out of 5\n",
      "Score 2: 2 out of 5\n",
      "Score 3: 2 out of 5\n",
      "scores1: 3 out of 5\n",
      "scores2: 2 out of 5\n",
      "scores3: 2 out of 5\n"
     ]
    }
   ],
   "source": [
    "from selenium.webdriver.common.by import By\n",
    "\n",
    "# Lets try find all matching spans\n",
    "scores = driver.find_elements(By.CSS_SELECTOR, 'span.StyledText-sc-1sadyjn-0.LabelMeter__TextScore-sc-6zrovj-2')\n",
    "\n",
    "# Now scores is a list, e.g. [<WebElement 1>, <WebElement 2>, <WebElement 3>]\n",
    "\n",
    "for i, s in enumerate(scores, start=1):\n",
    "    print(f\"Score {i}:\", s.text)\n",
    "\n",
    "# Option to adjust with the names of planet people and animal\n",
    "scores1 = scores[0].text\n",
    "scores2 = scores[1].text\n",
    "scores3 = scores[2].text    \n",
    "\n",
    "# Or however you want! :) \n",
    "print(\"scores1:\", scores1)\n",
    "print(\"scores2:\", scores2)\n",
    "print(\"scores3:\", scores3)"
   ]
  },
  {
   "cell_type": "code",
   "execution_count": null,
   "id": "f2b3351c",
   "metadata": {},
   "outputs": [],
   "source": []
  }
 ],
 "metadata": {
  "kernelspec": {
   "display_name": "Python 3 (ipykernel)",
   "language": "python",
   "name": "python3"
  },
  "language_info": {
   "codemirror_mode": {
    "name": "ipython",
    "version": 3
   },
   "file_extension": ".py",
   "mimetype": "text/x-python",
   "name": "python",
   "nbconvert_exporter": "python",
   "pygments_lexer": "ipython3",
   "version": "3.11.5"
  }
 },
 "nbformat": 4,
 "nbformat_minor": 5
}
