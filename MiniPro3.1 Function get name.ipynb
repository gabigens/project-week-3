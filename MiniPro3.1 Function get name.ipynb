{
 "cells": [
  {
   "cell_type": "code",
   "execution_count": 1,
   "id": "b0de5631-48ba-4321-9f75-6a05318715e9",
   "metadata": {},
   "outputs": [],
   "source": [
    "import requests\n",
    "from bs4 import BeautifulSoup\n",
    "import pandas as pd"
   ]
  },
  {
   "cell_type": "code",
   "execution_count": 2,
   "id": "7cf52679-8f72-4f8a-b3c9-70c78a5b7859",
   "metadata": {},
   "outputs": [],
   "source": [
    "def get_brand_name ():\n",
    "\n",
    "    url = 'https://www.lyst.com/the-lyst-index/the-lyst-index-q2-25/'\n",
    "    r = requests.get(url)\n",
    "    soup = BeautifulSoup(r.content)\n",
    "    grid = soup.find('div', attrs = {'class':'chart-update'})\n",
    "    brand_elements = grid.find_all('div', attrs = {'class':'mono-type padding-left'})\n",
    "\n",
    "    brand_names = []\n",
    "    \n",
    "    for elements in brand_elements:\n",
    "          clean_brand_name = elements.get_text()\n",
    "          brand_names.append(clean_brand_name)\n",
    "\n",
    "    return brand_names"
   ]
  },
  {
   "cell_type": "code",
   "execution_count": null,
   "id": "007011ae-b0eb-4e33-8921-673d6a537cc8",
   "metadata": {},
   "outputs": [
    {
     "data": {
      "text/plain": [
       "['MIU MIU',\n",
       " 'LOEWE',\n",
       " 'SAINT LAURENT',\n",
       " 'PRADA',\n",
       " 'COACH',\n",
       " 'THE ROW',\n",
       " 'COS',\n",
       " 'CHLOÉ',\n",
       " 'Bottega Veneta',\n",
       " 'Moncler',\n",
       " 'Ralph Lauren',\n",
       " 'ALAÏA',\n",
       " 'Balenciaga',\n",
       " 'JACQUEMUS',\n",
       " 'SKIMS',\n",
       " 'Versace',\n",
       " 'BURBERRY',\n",
       " 'GUCCI',\n",
       " 'Birkenstock',\n",
       " 'VALENTINO']"
      ]
     },
     "execution_count": 3,
     "metadata": {},
     "output_type": "execute_result"
    }
   ],
   "source": [
    "get_brand_name()"
   ]
  },
  {
   "cell_type": "code",
   "execution_count": null,
   "id": "dad68a51-909a-450b-8ce1-faca0c076205",
   "metadata": {},
   "outputs": [],
   "source": []
  }
 ],
 "metadata": {
  "kernelspec": {
   "display_name": "base",
   "language": "python",
   "name": "python3"
  },
  "language_info": {
   "codemirror_mode": {
    "name": "ipython",
    "version": 3
   },
   "file_extension": ".py",
   "mimetype": "text/x-python",
   "name": "python",
   "nbconvert_exporter": "python",
   "pygments_lexer": "ipython3",
   "version": "3.12.3"
  }
 },
 "nbformat": 4,
 "nbformat_minor": 5
}
