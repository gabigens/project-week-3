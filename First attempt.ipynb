{
 "cells": [
  {
   "cell_type": "code",
   "execution_count": 43,
   "id": "06521020",
   "metadata": {},
   "outputs": [
    {
     "name": "stdout",
     "output_type": "stream",
     "text": [
      "['Planet', 'People', 'Animals']\n"
     ]
    }
   ],
   "source": [
    "import requests\n",
    "from bs4 import BeautifulSoup\n",
    "\n",
    "# this must come from the lyst index page, Maria is working on that\n",
    "# brand_id = []\n",
    "\n",
    "# just to test one brand for now\n",
    "brand_id = \"adidas\"\n",
    "\n",
    "def get_data(brand_id):\n",
    "\n",
    "    url = f\"https://directory.goodonyou.eco/brands/{brand_id}\"\n",
    "\n",
    "    response = requests.get(url)\n",
    "    soup = BeautifulSoup(response.content)\n",
    "\n",
    "    # brand owner\n",
    "    owner = soup.find(\"div\", attrs = {\"class\":\"BrandRenderer__BodyText-sc-ahlgfk-15 gYNmNL\"}).get_text()\n",
    "    owner.split(\".\")[0]\n",
    "\n",
    "    # brand overall rating\n",
    "    general_rating = soup.find(\"p\", attrs = {\"id\":\"brand-rating\"}).get_text()\n",
    "    general_rating\n",
    "\n",
    "    # other classes\n",
    "    class_rating = soup.find_all(\"h4\", attrs = {\"class\":\"StyledHeading-sc-1rdh4aw-0 kSdMbM LabelMeter__HeadingLabel-sc-6zrovj-0 deAGsb\"})\n",
    "    class_name = []\n",
    "\n",
    "    for i in range(len(class_rating)):\n",
    "        class_name.append(class_rating[i].get_text())\n",
    "\n",
    "    print(class_name)\n",
    "\n",
    "get_data(brand_id)"
   ]
  },
  {
   "cell_type": "code",
   "execution_count": null,
   "id": "009dc1fc",
   "metadata": {},
   "outputs": [],
   "source": [
    "# other ratings\n",
    "\n",
    "\n",
    "\n",
    "from selenium import webdriver\n",
    "from selenium.webdriver.common.by import By\n",
    "\n",
    "#driver = webdriver.Chrome()\n",
    "#driver.get(url)\n",
    "#scores = driver.find_element(span, {\"class\"})\n",
    "#scores = soup.find_all(\"h4\", attrs = (\"class\")[0])\n",
    "#scores\n",
    "\n"
   ]
  }
 ],
 "metadata": {
  "kernelspec": {
   "display_name": "base",
   "language": "python",
   "name": "python3"
  },
  "language_info": {
   "codemirror_mode": {
    "name": "ipython",
    "version": 3
   },
   "file_extension": ".py",
   "mimetype": "text/x-python",
   "name": "python",
   "nbconvert_exporter": "python",
   "pygments_lexer": "ipython3",
   "version": "3.13.5"
  }
 },
 "nbformat": 4,
 "nbformat_minor": 5
}
