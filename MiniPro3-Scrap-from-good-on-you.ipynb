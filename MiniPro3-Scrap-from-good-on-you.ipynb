{
 "cells": [
  {
   "cell_type": "code",
   "execution_count": 1,
   "id": "8ed35ed3",
   "metadata": {},
   "outputs": [],
   "source": [
    "import requests\n",
    "from bs4 import BeautifulSoup\n",
    "import unicodedata\n",
    "import re\n",
    "import time \n",
    "import pandas as pd\n",
    "import numpy as np\n",
    "from selenium import webdriver\n",
    "from selenium.webdriver.common.by import By\n",
    "from selenium.webdriver.support.ui import WebDriverWait\n",
    "from selenium.webdriver.support import expected_conditions as EC"
   ]
  },
  {
   "cell_type": "code",
   "execution_count": 2,
   "id": "1b40ee85",
   "metadata": {},
   "outputs": [],
   "source": [
    "# Selected brands come from the Lyst Index, updated quarterly\n",
    "\n",
    "def get_brand_name():\n",
    "\n",
    "    url_brands = 'https://www.lyst.com/the-lyst-index/the-lyst-index-q2-25/'\n",
    "    r = requests.get(url_brands)\n",
    "    soup_lyst = BeautifulSoup(r.content)\n",
    "    grid = soup_lyst.find('div', attrs = {'class':'chart-update'})\n",
    "    brand_elements = grid.find_all('div', attrs = {'class':'mono-type padding-left'})\n",
    "\n",
    "    brand_names = []\n",
    "    \n",
    "    for elements in brand_elements:\n",
    "          clean_brand_name = elements.get_text().title()\n",
    "          brand_names.append(clean_brand_name)\n",
    "\n",
    "    return brand_names"
   ]
  },
  {
   "cell_type": "code",
   "execution_count": 3,
   "id": "b550090e",
   "metadata": {},
   "outputs": [],
   "source": [
    "# To use the brand names to build the URLs on Good On You, we need to clean them\n",
    "\n",
    "brand_id = get_brand_name()\n",
    "\n",
    "brand_id_cleaned = []\n",
    "\n",
    "for brand in brand_id:\n",
    "    remove_accents = ''.join((c for c in unicodedata.normalize('NFD', brand) if unicodedata.category(c) != 'Mn'))\n",
    "    cleaned = re.sub(r\"[^a-zA-Z0-9\\s-]\", \"\", remove_accents)\n",
    "    cleaned = cleaned.lower().replace(\" \", \"-\")\n",
    "    brand_id_cleaned.append(cleaned)\n"
   ]
  },
  {
   "cell_type": "code",
   "execution_count": 4,
   "id": "06521020",
   "metadata": {},
   "outputs": [],
   "source": [
    "# Function to get data from Good On You website\n",
    "\n",
    "def get_data(brand_id_cleaned):\n",
    "    \n",
    "    brand_data = {}\n",
    "    index = 0\n",
    "\n",
    "    for brand in brand_id_cleaned:\n",
    "        \n",
    "        url = f\"https://directory.goodonyou.eco/brands/{str(brand)}\"\n",
    "        response = requests.get(url)\n",
    "        soup = BeautifulSoup(response.content)\n",
    "\n",
    "        # brand overall rating\n",
    "        general_rating = soup.find(\"p\", attrs = {\"id\":\"brand-rating\"}).get_text()\n",
    "    \n",
    "        # scores by class\n",
    "        driver = webdriver.Chrome()\n",
    "        driver.get(url)\n",
    "\n",
    "        time.sleep(2)  # wait for the page to load\n",
    "\n",
    "        scores = driver.find_elements(By.CSS_SELECTOR, 'span.StyledText-sc-1sadyjn-0.LabelMeter__TextScore-sc-6zrovj-2')\n",
    "\n",
    "        # extracting the three scores with error handling\n",
    "        try: \n",
    "            planet = scores[0].text\n",
    "        except:\n",
    "            planet = \"Not available\"\n",
    "        try: \n",
    "            people = scores[1].text\n",
    "        except:\n",
    "            people = \"Not available\"\n",
    "        try: \n",
    "            animals = scores[2].text\n",
    "        except:\n",
    "            animals = \"Not available\"\n",
    "\n",
    "        driver.quit()\n",
    "\n",
    "        brand_data[index] = {\n",
    "            \"Brand\": brand.title().replace(\"-\", \" \"),\n",
    "            \"Overall sustainability rating\": general_rating,\n",
    "            \"Planet rating\": planet,\n",
    "            \"People rating\": people,\n",
    "            \"Animals rating\": animals\n",
    "        }\n",
    "        \n",
    "        index += 1\n",
    "        \n",
    "    return brand_data    \n",
    "\n",
    "brand_data = get_data(brand_id_cleaned)"
   ]
  },
  {
   "cell_type": "code",
   "execution_count": 5,
   "id": "24c1ec7b",
   "metadata": {},
   "outputs": [],
   "source": [
    "# Transforming the data into a DataFrame\n",
    "\n",
    "df_brands = pd.DataFrame.from_dict(brand_data, orient='index')\n",
    "df_brands\n",
    "\n",
    "df_brands.to_csv(\"ratings.csv\", index=False)"
   ]
  }
 ],
 "metadata": {
  "kernelspec": {
   "display_name": "base",
   "language": "python",
   "name": "python3"
  },
  "language_info": {
   "codemirror_mode": {
    "name": "ipython",
    "version": 3
   },
   "file_extension": ".py",
   "mimetype": "text/x-python",
   "name": "python",
   "nbconvert_exporter": "python",
   "pygments_lexer": "ipython3",
   "version": "3.13.5"
  }
 },
 "nbformat": 4,
 "nbformat_minor": 5
}
